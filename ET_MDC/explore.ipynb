{
 "cells": [
  {
   "cell_type": "code",
   "execution_count": 1,
   "metadata": {},
   "outputs": [],
   "source": [
    "import numpy as np \n",
    "import pandas as pd"
   ]
  },
  {
   "cell_type": "code",
   "execution_count": 11,
   "metadata": {},
   "outputs": [
    {
     "name": "stdout",
     "output_type": "stream",
     "text": [
      "Total number of events:  69781\n",
      "Number of BBH events:  6725\n",
      "Number of NSBH events:  2025\n",
      "Number of BNS events:  61031\n",
      "\n",
      "\n",
      "Number of BBH events above SNR threshold:  6119\n",
      "Number of NSBH events above SNR threshold:  535\n",
      "Number of BNS events above SNR threshold:  11539\n"
     ]
    }
   ],
   "source": [
    "filename = \"list_etmdc1_snr.txt\"\n",
    "# Load with pandas \n",
    "df = pd.read_csv(filename, sep=\" \")\n",
    "\n",
    "bbh = df[df[\"type\"] == 3]\n",
    "nsbh = df[df[\"type\"] == 2]\n",
    "bns = df[df[\"type\"] == 1]\n",
    "\n",
    "SNR_THRESHOLD = 8\n",
    "bbh_cutoff = bbh[bbh[\"SNR\"] > SNR_THRESHOLD]\n",
    "nsbh_cutoff = nsbh[nsbh[\"SNR\"] > SNR_THRESHOLD]\n",
    "bns_cutoff = bns[bns[\"SNR\"] > SNR_THRESHOLD]\n",
    "\n",
    "# Print the total number to the screen\n",
    "print(\"Total number of events: \", len(df))\n",
    "print(\"Number of BBH events: \", len(bbh))\n",
    "print(\"Number of NSBH events: \", len(nsbh))\n",
    "print(\"Number of BNS events: \", len(bns))\n",
    "print(\"\\n\")\n",
    "\n",
    "print(\"Number of BBH events above SNR threshold: \", len(bbh_cutoff))\n",
    "print(\"Number of NSBH events above SNR threshold: \", len(nsbh_cutoff))\n",
    "print(\"Number of BNS events above SNR threshold: \", len(bns_cutoff))"
   ]
  },
  {
   "cell_type": "code",
   "execution_count": null,
   "metadata": {},
   "outputs": [],
   "source": []
  }
 ],
 "metadata": {
  "kernelspec": {
   "display_name": "overlapping_signals",
   "language": "python",
   "name": "python3"
  },
  "language_info": {
   "codemirror_mode": {
    "name": "ipython",
    "version": 3
   },
   "file_extension": ".py",
   "mimetype": "text/x-python",
   "name": "python",
   "nbconvert_exporter": "python",
   "pygments_lexer": "ipython3",
   "version": "3.10.14"
  },
  "orig_nbformat": 4
 },
 "nbformat": 4,
 "nbformat_minor": 2
}
